{
 "cells": [
  {
   "cell_type": "markdown",
   "id": "narrow-prairie",
   "metadata": {},
   "source": [
    "### Importing libraries"
   ]
  },
  {
   "cell_type": "code",
   "execution_count": 133,
   "id": "sound-discretion",
   "metadata": {},
   "outputs": [],
   "source": [
    "import numpy as np\n",
    "import pandas as pd\n",
    "from scipy import stats\n",
    "import matplotlib.pyplot as plt \n",
    "import seaborn as sns\n",
    "%matplotlib inline"
   ]
  },
  {
   "cell_type": "markdown",
   "id": "lined-falls",
   "metadata": {},
   "source": [
    "### Loading the data"
   ]
  },
  {
   "cell_type": "code",
   "execution_count": 152,
   "id": "accompanied-specific",
   "metadata": {},
   "outputs": [
    {
     "data": {
      "text/html": [
       "<div>\n",
       "<style scoped>\n",
       "    .dataframe tbody tr th:only-of-type {\n",
       "        vertical-align: middle;\n",
       "    }\n",
       "\n",
       "    .dataframe tbody tr th {\n",
       "        vertical-align: top;\n",
       "    }\n",
       "\n",
       "    .dataframe thead th {\n",
       "        text-align: right;\n",
       "    }\n",
       "</style>\n",
       "<table border=\"1\" class=\"dataframe\">\n",
       "  <thead>\n",
       "    <tr style=\"text-align: right;\">\n",
       "      <th></th>\n",
       "      <th>ID</th>\n",
       "      <th>DATOP</th>\n",
       "      <th>FLTID</th>\n",
       "      <th>DEPSTN</th>\n",
       "      <th>ARRSTN</th>\n",
       "      <th>STD</th>\n",
       "      <th>STA</th>\n",
       "      <th>STATUS</th>\n",
       "      <th>AC</th>\n",
       "      <th>target</th>\n",
       "    </tr>\n",
       "  </thead>\n",
       "  <tbody>\n",
       "    <tr>\n",
       "      <th>28943</th>\n",
       "      <td>train_id_28943</td>\n",
       "      <td>2016-12-12</td>\n",
       "      <td>TU 1759</td>\n",
       "      <td>PMO</td>\n",
       "      <td>TUN</td>\n",
       "      <td>2016-12-12 14:05:00</td>\n",
       "      <td>2016-12-12 14.50.00</td>\n",
       "      <td>DEP</td>\n",
       "      <td>UG AT7LBE</td>\n",
       "      <td>0.0</td>\n",
       "    </tr>\n",
       "    <tr>\n",
       "      <th>89160</th>\n",
       "      <td>train_id_89160</td>\n",
       "      <td>2018-10-03</td>\n",
       "      <td>TU 7041</td>\n",
       "      <td>PRG</td>\n",
       "      <td>DJE</td>\n",
       "      <td>2018-10-03 09:05:00</td>\n",
       "      <td>2018-10-03 11.45.00</td>\n",
       "      <td>ATA</td>\n",
       "      <td>TU 32AIML</td>\n",
       "      <td>0.0</td>\n",
       "    </tr>\n",
       "    <tr>\n",
       "      <th>78017</th>\n",
       "      <td>train_id_78017</td>\n",
       "      <td>2018-06-18</td>\n",
       "      <td>TU 0214</td>\n",
       "      <td>TUN</td>\n",
       "      <td>IST</td>\n",
       "      <td>2018-06-18 07:05:00</td>\n",
       "      <td>2018-06-18 09.40.00</td>\n",
       "      <td>ATA</td>\n",
       "      <td>TU 320IMU</td>\n",
       "      <td>45.0</td>\n",
       "    </tr>\n",
       "    <tr>\n",
       "      <th>81538</th>\n",
       "      <td>train_id_81538</td>\n",
       "      <td>2018-03-22</td>\n",
       "      <td>TU 0841</td>\n",
       "      <td>CKY</td>\n",
       "      <td>DSS</td>\n",
       "      <td>2018-03-22 20:10:00</td>\n",
       "      <td>2018-03-22 21.30.00</td>\n",
       "      <td>ATA</td>\n",
       "      <td>TU 320IMW</td>\n",
       "      <td>102.0</td>\n",
       "    </tr>\n",
       "    <tr>\n",
       "      <th>40382</th>\n",
       "      <td>train_id_40382</td>\n",
       "      <td>2017-05-07</td>\n",
       "      <td>TU 0719</td>\n",
       "      <td>ORY</td>\n",
       "      <td>TUN</td>\n",
       "      <td>2017-05-07 12:40:00</td>\n",
       "      <td>2017-05-07 15.05.00</td>\n",
       "      <td>ATA</td>\n",
       "      <td>TU 32AIMH</td>\n",
       "      <td>105.0</td>\n",
       "    </tr>\n",
       "  </tbody>\n",
       "</table>\n",
       "</div>"
      ],
      "text/plain": [
       "                   ID       DATOP     FLTID DEPSTN ARRSTN  \\\n",
       "28943  train_id_28943  2016-12-12  TU 1759     PMO    TUN   \n",
       "89160  train_id_89160  2018-10-03  TU 7041     PRG    DJE   \n",
       "78017  train_id_78017  2018-06-18  TU 0214     TUN    IST   \n",
       "81538  train_id_81538  2018-03-22  TU 0841     CKY    DSS   \n",
       "40382  train_id_40382  2017-05-07  TU 0719     ORY    TUN   \n",
       "\n",
       "                       STD                  STA STATUS         AC  target  \n",
       "28943  2016-12-12 14:05:00  2016-12-12 14.50.00    DEP  UG AT7LBE     0.0  \n",
       "89160  2018-10-03 09:05:00  2018-10-03 11.45.00    ATA  TU 32AIML     0.0  \n",
       "78017  2018-06-18 07:05:00  2018-06-18 09.40.00    ATA  TU 320IMU    45.0  \n",
       "81538  2018-03-22 20:10:00  2018-03-22 21.30.00    ATA  TU 320IMW   102.0  \n",
       "40382  2017-05-07 12:40:00  2017-05-07 15.05.00    ATA  TU 32AIMH   105.0  "
      ]
     },
     "execution_count": 152,
     "metadata": {},
     "output_type": "execute_result"
    }
   ],
   "source": [
    "train=pd.read_csv('Train.csv')\n",
    "train.sample(5)"
   ]
  },
  {
   "cell_type": "code",
   "execution_count": 28,
   "id": "minute-replication",
   "metadata": {},
   "outputs": [
    {
     "name": "stdout",
     "output_type": "stream",
     "text": [
      "dimension of the dataset:  (107833, 10)\n"
     ]
    }
   ],
   "source": [
    "print('dimension of the dataset: ',train.shape)"
   ]
  },
  {
   "cell_type": "code",
   "execution_count": 11,
   "id": "bearing-psychology",
   "metadata": {},
   "outputs": [
    {
     "name": "stdout",
     "output_type": "stream",
     "text": [
      "<class 'pandas.core.frame.DataFrame'>\n",
      "RangeIndex: 107833 entries, 0 to 107832\n",
      "Data columns (total 10 columns):\n",
      " #   Column  Non-Null Count   Dtype  \n",
      "---  ------  --------------   -----  \n",
      " 0   ID      107833 non-null  object \n",
      " 1   DATOP   107833 non-null  object \n",
      " 2   FLTID   107833 non-null  object \n",
      " 3   DEPSTN  107833 non-null  object \n",
      " 4   ARRSTN  107833 non-null  object \n",
      " 5   STD     107833 non-null  object \n",
      " 6   STA     107833 non-null  object \n",
      " 7   STATUS  107833 non-null  object \n",
      " 8   AC      107833 non-null  object \n",
      " 9   target  107833 non-null  float64\n",
      "dtypes: float64(1), object(9)\n",
      "memory usage: 8.2+ MB\n"
     ]
    }
   ],
   "source": [
    "train.info()"
   ]
  },
  {
   "cell_type": "code",
   "execution_count": 29,
   "id": "preliminary-mercy",
   "metadata": {},
   "outputs": [
    {
     "data": {
      "text/html": [
       "<div>\n",
       "<style scoped>\n",
       "    .dataframe tbody tr th:only-of-type {\n",
       "        vertical-align: middle;\n",
       "    }\n",
       "\n",
       "    .dataframe tbody tr th {\n",
       "        vertical-align: top;\n",
       "    }\n",
       "\n",
       "    .dataframe thead th {\n",
       "        text-align: right;\n",
       "    }\n",
       "</style>\n",
       "<table border=\"1\" class=\"dataframe\">\n",
       "  <thead>\n",
       "    <tr style=\"text-align: right;\">\n",
       "      <th></th>\n",
       "      <th>target</th>\n",
       "    </tr>\n",
       "  </thead>\n",
       "  <tbody>\n",
       "    <tr>\n",
       "      <th>count</th>\n",
       "      <td>107833.000000</td>\n",
       "    </tr>\n",
       "    <tr>\n",
       "      <th>mean</th>\n",
       "      <td>48.733013</td>\n",
       "    </tr>\n",
       "    <tr>\n",
       "      <th>std</th>\n",
       "      <td>117.135562</td>\n",
       "    </tr>\n",
       "    <tr>\n",
       "      <th>min</th>\n",
       "      <td>0.000000</td>\n",
       "    </tr>\n",
       "    <tr>\n",
       "      <th>25%</th>\n",
       "      <td>0.000000</td>\n",
       "    </tr>\n",
       "    <tr>\n",
       "      <th>50%</th>\n",
       "      <td>14.000000</td>\n",
       "    </tr>\n",
       "    <tr>\n",
       "      <th>75%</th>\n",
       "      <td>43.000000</td>\n",
       "    </tr>\n",
       "    <tr>\n",
       "      <th>max</th>\n",
       "      <td>3451.000000</td>\n",
       "    </tr>\n",
       "  </tbody>\n",
       "</table>\n",
       "</div>"
      ],
      "text/plain": [
       "              target\n",
       "count  107833.000000\n",
       "mean       48.733013\n",
       "std       117.135562\n",
       "min         0.000000\n",
       "25%         0.000000\n",
       "50%        14.000000\n",
       "75%        43.000000\n",
       "max      3451.000000"
      ]
     },
     "execution_count": 29,
     "metadata": {},
     "output_type": "execute_result"
    }
   ],
   "source": [
    "train.describe()"
   ]
  },
  {
   "cell_type": "markdown",
   "id": "fallen-stanford",
   "metadata": {},
   "source": [
    "###   Data Preprocessing"
   ]
  },
  {
   "cell_type": "code",
   "execution_count": 153,
   "id": "difficult-michigan",
   "metadata": {},
   "outputs": [],
   "source": [
    "train['FLTID']=train['FLTID'].astype('category')\n",
    "train['DEPSTN']=train['DEPSTN'].astype('category')\n",
    "train['ARRSTN']=train['ARRSTN'].astype('category')\n",
    "train['STATUS']=train['STATUS'].astype('category')\n",
    "train['AC']=train['AC'].astype('category')\n",
    "train['DATOP']=pd.to_datetime(train['DATOP'])\n",
    "train['STD']=pd.to_datetime(train['STD'])"
   ]
  },
  {
   "cell_type": "code",
   "execution_count": 154,
   "id": "adapted-sitting",
   "metadata": {},
   "outputs": [],
   "source": [
    "train['STA']=train['STA'].map(lambda x:x.replace('.',':'))\n",
    "train['STA']=pd.to_datetime(train['STA'])"
   ]
  },
  {
   "cell_type": "code",
   "execution_count": 137,
   "id": "official-amazon",
   "metadata": {},
   "outputs": [
    {
     "data": {
      "text/plain": [
       "ID                object\n",
       "DATOP     datetime64[ns]\n",
       "FLTID           category\n",
       "DEPSTN          category\n",
       "ARRSTN          category\n",
       "STD       datetime64[ns]\n",
       "STA       datetime64[ns]\n",
       "STATUS          category\n",
       "AC              category\n",
       "target           float64\n",
       "dtype: object"
      ]
     },
     "execution_count": 137,
     "metadata": {},
     "output_type": "execute_result"
    }
   ],
   "source": [
    "train.dtypes"
   ]
  },
  {
   "cell_type": "code",
   "execution_count": 155,
   "id": "wooden-construction",
   "metadata": {},
   "outputs": [],
   "source": [
    "train.insert(2,'FLTID_CAT',train['FLTID'].cat.codes)\n",
    "train.insert(4,'DEPSTN_CAT',train['DEPSTN'].cat.codes)\n",
    "train.insert(6,'ARRSTN_CAT',train['ARRSTN'].cat.codes)\n",
    "train.insert(10,'STATUS_CAT',train['STATUS'].cat.codes)\n",
    "train.insert(12,'AC_CAT',train['AC'].cat.codes)"
   ]
  },
  {
   "cell_type": "code",
   "execution_count": 156,
   "id": "bearing-supervisor",
   "metadata": {},
   "outputs": [
    {
     "data": {
      "text/html": [
       "<div>\n",
       "<style scoped>\n",
       "    .dataframe tbody tr th:only-of-type {\n",
       "        vertical-align: middle;\n",
       "    }\n",
       "\n",
       "    .dataframe tbody tr th {\n",
       "        vertical-align: top;\n",
       "    }\n",
       "\n",
       "    .dataframe thead th {\n",
       "        text-align: right;\n",
       "    }\n",
       "</style>\n",
       "<table border=\"1\" class=\"dataframe\">\n",
       "  <thead>\n",
       "    <tr style=\"text-align: right;\">\n",
       "      <th></th>\n",
       "      <th>ID</th>\n",
       "      <th>DATOP</th>\n",
       "      <th>FLTID_CAT</th>\n",
       "      <th>FLTID</th>\n",
       "      <th>DEPSTN_CAT</th>\n",
       "      <th>DEPSTN</th>\n",
       "      <th>ARRSTN_CAT</th>\n",
       "      <th>ARRSTN</th>\n",
       "      <th>STD</th>\n",
       "      <th>STA</th>\n",
       "      <th>STATUS_CAT</th>\n",
       "      <th>STATUS</th>\n",
       "      <th>AC_CAT</th>\n",
       "      <th>AC</th>\n",
       "      <th>target</th>\n",
       "    </tr>\n",
       "  </thead>\n",
       "  <tbody>\n",
       "    <tr>\n",
       "      <th>18658</th>\n",
       "      <td>train_id_18658</td>\n",
       "      <td>2016-08-03</td>\n",
       "      <td>104</td>\n",
       "      <td>TU 0262</td>\n",
       "      <td>81</td>\n",
       "      <td>MIR</td>\n",
       "      <td>109</td>\n",
       "      <td>SVO</td>\n",
       "      <td>2016-08-03 21:00:00</td>\n",
       "      <td>2016-08-04 00:50:00</td>\n",
       "      <td>0</td>\n",
       "      <td>ATA</td>\n",
       "      <td>41</td>\n",
       "      <td>TU 32AIMG</td>\n",
       "      <td>0.0</td>\n",
       "    </tr>\n",
       "    <tr>\n",
       "      <th>43051</th>\n",
       "      <td>train_id_43051</td>\n",
       "      <td>2017-05-30</td>\n",
       "      <td>229</td>\n",
       "      <td>TU 0711</td>\n",
       "      <td>123</td>\n",
       "      <td>TUN</td>\n",
       "      <td>31</td>\n",
       "      <td>CMN</td>\n",
       "      <td>2017-05-30 07:00:00</td>\n",
       "      <td>2017-05-30 09:40:00</td>\n",
       "      <td>0</td>\n",
       "      <td>ATA</td>\n",
       "      <td>45</td>\n",
       "      <td>TU 32AIMM</td>\n",
       "      <td>17.0</td>\n",
       "    </tr>\n",
       "    <tr>\n",
       "      <th>17314</th>\n",
       "      <td>train_id_17314</td>\n",
       "      <td>2016-04-13</td>\n",
       "      <td>289</td>\n",
       "      <td>TU 0902</td>\n",
       "      <td>123</td>\n",
       "      <td>TUN</td>\n",
       "      <td>81</td>\n",
       "      <td>MRS</td>\n",
       "      <td>2016-04-13 11:25:00</td>\n",
       "      <td>2016-04-13 13:00:00</td>\n",
       "      <td>0</td>\n",
       "      <td>ATA</td>\n",
       "      <td>36</td>\n",
       "      <td>TU 320IMW</td>\n",
       "      <td>59.0</td>\n",
       "    </tr>\n",
       "    <tr>\n",
       "      <th>84567</th>\n",
       "      <td>train_id_84567</td>\n",
       "      <td>2018-04-26</td>\n",
       "      <td>231</td>\n",
       "      <td>TU 0713</td>\n",
       "      <td>123</td>\n",
       "      <td>TUN</td>\n",
       "      <td>59</td>\n",
       "      <td>JED</td>\n",
       "      <td>2018-04-26 18:55:00</td>\n",
       "      <td>2018-04-26 23:10:00</td>\n",
       "      <td>0</td>\n",
       "      <td>ATA</td>\n",
       "      <td>35</td>\n",
       "      <td>TU 320IMV</td>\n",
       "      <td>11.0</td>\n",
       "    </tr>\n",
       "  </tbody>\n",
       "</table>\n",
       "</div>"
      ],
      "text/plain": [
       "                   ID      DATOP  FLTID_CAT     FLTID  DEPSTN_CAT DEPSTN  \\\n",
       "18658  train_id_18658 2016-08-03        104  TU 0262           81    MIR   \n",
       "43051  train_id_43051 2017-05-30        229  TU 0711          123    TUN   \n",
       "17314  train_id_17314 2016-04-13        289  TU 0902          123    TUN   \n",
       "84567  train_id_84567 2018-04-26        231  TU 0713          123    TUN   \n",
       "\n",
       "       ARRSTN_CAT ARRSTN                 STD                 STA  STATUS_CAT  \\\n",
       "18658         109    SVO 2016-08-03 21:00:00 2016-08-04 00:50:00           0   \n",
       "43051          31    CMN 2017-05-30 07:00:00 2017-05-30 09:40:00           0   \n",
       "17314          81    MRS 2016-04-13 11:25:00 2016-04-13 13:00:00           0   \n",
       "84567          59    JED 2018-04-26 18:55:00 2018-04-26 23:10:00           0   \n",
       "\n",
       "      STATUS  AC_CAT         AC  target  \n",
       "18658    ATA      41  TU 32AIMG     0.0  \n",
       "43051    ATA      45  TU 32AIMM    17.0  \n",
       "17314    ATA      36  TU 320IMW    59.0  \n",
       "84567    ATA      35  TU 320IMV    11.0  "
      ]
     },
     "execution_count": 156,
     "metadata": {},
     "output_type": "execute_result"
    }
   ],
   "source": [
    "train.sample(4)"
   ]
  },
  {
   "cell_type": "code",
   "execution_count": 166,
   "id": "transsexual-wheel",
   "metadata": {},
   "outputs": [
    {
     "data": {
      "text/plain": [
       "-0.15410878958408264"
      ]
     },
     "execution_count": 166,
     "metadata": {},
     "output_type": "execute_result"
    }
   ],
   "source": [
    "r,p_value=stats.pearsonr(train.STATUS_CAT,train.target)\n",
    "r"
   ]
  },
  {
   "cell_type": "code",
   "execution_count": 162,
   "id": "ongoing-general",
   "metadata": {},
   "outputs": [
    {
     "data": {
      "text/plain": [
       "-0.07853615336311393"
      ]
     },
     "execution_count": 162,
     "metadata": {},
     "output_type": "execute_result"
    }
   ],
   "source": [
    "r"
   ]
  },
  {
   "cell_type": "code",
   "execution_count": 167,
   "id": "japanese-gateway",
   "metadata": {},
   "outputs": [
    {
     "data": {
      "text/plain": [
       "<matplotlib.collections.PathCollection at 0x28a2e50cdf0>"
      ]
     },
     "execution_count": 167,
     "metadata": {},
     "output_type": "execute_result"
    },
    {
     "data": {
      "image/png": "[encoded data removed]",
      "text/plain": [
       "<Figure size 432x288 with 1 Axes>"
      ]
     },
     "metadata": {
      "needs_background": "light"
     },
     "output_type": "display_data"
    }
   ],
   "source": [
    "plt.scatter(train.STATUS_CAT,train.target)"
   ]
  }
 ],
 "metadata": {
  "kernelspec": {
   "display_name": "Python 3",
   "language": "python",
   "name": "python3"
  },
  "language_info": {
   "codemirror_mode": {
    "name": "ipython",
    "version": 3
   },
   "file_extension": ".py",
   "mimetype": "text/x-python",
   "name": "python",
   "nbconvert_exporter": "python",
   "pygments_lexer": "ipython3",
   "version": "3.8.5"
  }
 },
 "nbformat": 4,
 "nbformat_minor": 5
}
