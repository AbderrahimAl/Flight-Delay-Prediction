{
 "cells": [
  {
   "cell_type": "markdown",
   "metadata": {},
   "source": [
    "### Importing libraries"
   ]
  },
  {
   "cell_type": "code",
   "execution_count": 23,
   "metadata": {},
   "outputs": [],
   "source": [
    "import numpy as np\n",
    "import pandas as pd\n",
    "from scipy import stats\n",
    "import matplotlib.pyplot as plt \n",
    "import seaborn as sns\n",
    "from sklearn.model_selection import train_test_split\n",
    "from sklearn.metrics import mean_squared_error\n",
    "from datetime import datetime\n",
    "%matplotlib inline"
   ]
  },
  {
   "cell_type": "markdown",
   "metadata": {},
   "source": [
    "### Loading the data"
   ]
  },
  {
   "cell_type": "code",
   "execution_count": 8,
   "metadata": {
    "scrolled": true
   },
   "outputs": [
    {
     "data": {
      "text/html": [
       "<div>\n",
       "<style scoped>\n",
       "    .dataframe tbody tr th:only-of-type {\n",
       "        vertical-align: middle;\n",
       "    }\n",
       "\n",
       "    .dataframe tbody tr th {\n",
       "        vertical-align: top;\n",
       "    }\n",
       "\n",
       "    .dataframe thead th {\n",
       "        text-align: right;\n",
       "    }\n",
       "</style>\n",
       "<table border=\"1\" class=\"dataframe\">\n",
       "  <thead>\n",
       "    <tr style=\"text-align: right;\">\n",
       "      <th></th>\n",
       "      <th>ID</th>\n",
       "      <th>DATOP</th>\n",
       "      <th>FLTID</th>\n",
       "      <th>DEPSTN</th>\n",
       "      <th>ARRSTN</th>\n",
       "      <th>STD</th>\n",
       "      <th>STA</th>\n",
       "      <th>STATUS</th>\n",
       "      <th>AC</th>\n",
       "      <th>target</th>\n",
       "    </tr>\n",
       "  </thead>\n",
       "  <tbody>\n",
       "    <tr>\n",
       "      <th>1785</th>\n",
       "      <td>train_id_1785</td>\n",
       "      <td>2016-07-18</td>\n",
       "      <td>TU 0318</td>\n",
       "      <td>TUN</td>\n",
       "      <td>LIS</td>\n",
       "      <td>2016-07-18 14:35:00</td>\n",
       "      <td>2016-07-18 17.30.00</td>\n",
       "      <td>ATA</td>\n",
       "      <td>TU 736ION</td>\n",
       "      <td>19.0</td>\n",
       "    </tr>\n",
       "    <tr>\n",
       "      <th>9476</th>\n",
       "      <td>train_id_9476</td>\n",
       "      <td>2016-04-16</td>\n",
       "      <td>TU 0789</td>\n",
       "      <td>BRU</td>\n",
       "      <td>TUN</td>\n",
       "      <td>2016-04-16 11:00:00</td>\n",
       "      <td>2016-04-16 13.40.00</td>\n",
       "      <td>ATA</td>\n",
       "      <td>TU 320IMT</td>\n",
       "      <td>5.0</td>\n",
       "    </tr>\n",
       "    <tr>\n",
       "      <th>57210</th>\n",
       "      <td>train_id_57210</td>\n",
       "      <td>2017-12-22</td>\n",
       "      <td>TU 0606</td>\n",
       "      <td>TUN</td>\n",
       "      <td>MAD</td>\n",
       "      <td>2017-12-22 07:10:00</td>\n",
       "      <td>2017-12-22 09.15.00</td>\n",
       "      <td>ATA</td>\n",
       "      <td>TU 32AIML</td>\n",
       "      <td>30.0</td>\n",
       "    </tr>\n",
       "    <tr>\n",
       "      <th>12227</th>\n",
       "      <td>train_id_12227</td>\n",
       "      <td>2016-08-25</td>\n",
       "      <td>TU 0695</td>\n",
       "      <td>MRS</td>\n",
       "      <td>DJE</td>\n",
       "      <td>2016-08-25 14:35:00</td>\n",
       "      <td>2016-08-25 16.35.00</td>\n",
       "      <td>ATA</td>\n",
       "      <td>TU 736IOK</td>\n",
       "      <td>0.0</td>\n",
       "    </tr>\n",
       "    <tr>\n",
       "      <th>57437</th>\n",
       "      <td>train_id_57437</td>\n",
       "      <td>2017-10-19</td>\n",
       "      <td>TU 0814</td>\n",
       "      <td>CAI</td>\n",
       "      <td>TUN</td>\n",
       "      <td>2017-10-19 10:55:00</td>\n",
       "      <td>2017-10-19 14.10.00</td>\n",
       "      <td>ATA</td>\n",
       "      <td>TU 32AIMP</td>\n",
       "      <td>665.0</td>\n",
       "    </tr>\n",
       "  </tbody>\n",
       "</table>\n",
       "</div>"
      ],
      "text/plain": [
       "                   ID       DATOP     FLTID DEPSTN ARRSTN  \\\n",
       "1785    train_id_1785  2016-07-18  TU 0318     TUN    LIS   \n",
       "9476    train_id_9476  2016-04-16  TU 0789     BRU    TUN   \n",
       "57210  train_id_57210  2017-12-22  TU 0606     TUN    MAD   \n",
       "12227  train_id_12227  2016-08-25  TU 0695     MRS    DJE   \n",
       "57437  train_id_57437  2017-10-19  TU 0814     CAI    TUN   \n",
       "\n",
       "                       STD                  STA STATUS         AC  target  \n",
       "1785   2016-07-18 14:35:00  2016-07-18 17.30.00    ATA  TU 736ION    19.0  \n",
       "9476   2016-04-16 11:00:00  2016-04-16 13.40.00    ATA  TU 320IMT     5.0  \n",
       "57210  2017-12-22 07:10:00  2017-12-22 09.15.00    ATA  TU 32AIML    30.0  \n",
       "12227  2016-08-25 14:35:00  2016-08-25 16.35.00    ATA  TU 736IOK     0.0  \n",
       "57437  2017-10-19 10:55:00  2017-10-19 14.10.00    ATA  TU 32AIMP   665.0  "
      ]
     },
     "execution_count": 8,
     "metadata": {},
     "output_type": "execute_result"
    }
   ],
   "source": [
    "train=pd.read_csv('Train.csv')\n",
    "test=pd.read_csv('Test.csv')\n",
    "train.sample(5)"
   ]
  },
  {
   "cell_type": "code",
   "execution_count": 7,
   "metadata": {},
   "outputs": [
    {
     "data": {
      "text/html": [
       "<div>\n",
       "<style scoped>\n",
       "    .dataframe tbody tr th:only-of-type {\n",
       "        vertical-align: middle;\n",
       "    }\n",
       "\n",
       "    .dataframe tbody tr th {\n",
       "        vertical-align: top;\n",
       "    }\n",
       "\n",
       "    .dataframe thead th {\n",
       "        text-align: right;\n",
       "    }\n",
       "</style>\n",
       "<table border=\"1\" class=\"dataframe\">\n",
       "  <thead>\n",
       "    <tr style=\"text-align: right;\">\n",
       "      <th></th>\n",
       "      <th>ID</th>\n",
       "      <th>DATOP</th>\n",
       "      <th>FLTID</th>\n",
       "      <th>DEPSTN</th>\n",
       "      <th>ARRSTN</th>\n",
       "      <th>STD</th>\n",
       "      <th>STA</th>\n",
       "      <th>STATUS</th>\n",
       "      <th>AC</th>\n",
       "    </tr>\n",
       "  </thead>\n",
       "  <tbody>\n",
       "    <tr>\n",
       "      <th>7818</th>\n",
       "      <td>test_id_7818</td>\n",
       "      <td>2018-09-23</td>\n",
       "      <td>TU 0856</td>\n",
       "      <td>TUN</td>\n",
       "      <td>MXP</td>\n",
       "      <td>2018-09-23 14:00:00</td>\n",
       "      <td>2018-09-23 15.45.00</td>\n",
       "      <td>ATA</td>\n",
       "      <td>TU 31BIMQ</td>\n",
       "    </tr>\n",
       "    <tr>\n",
       "      <th>6020</th>\n",
       "      <td>test_id_6020</td>\n",
       "      <td>2018-09-20</td>\n",
       "      <td>TU 0694</td>\n",
       "      <td>DJE</td>\n",
       "      <td>MRS</td>\n",
       "      <td>2018-09-20 07:25:00</td>\n",
       "      <td>2018-09-20 09.25.00</td>\n",
       "      <td>ATA</td>\n",
       "      <td>TU 736IOR</td>\n",
       "    </tr>\n",
       "    <tr>\n",
       "      <th>2592</th>\n",
       "      <td>test_id_2592</td>\n",
       "      <td>2016-05-01</td>\n",
       "      <td>UG 1311</td>\n",
       "      <td>CDG</td>\n",
       "      <td>TUN</td>\n",
       "      <td>2016-05-01 16:40:00</td>\n",
       "      <td>2016-05-01 18.55.00</td>\n",
       "      <td>SCH</td>\n",
       "      <td>TU CR9ISA</td>\n",
       "    </tr>\n",
       "    <tr>\n",
       "      <th>3222</th>\n",
       "      <td>test_id_3222</td>\n",
       "      <td>2017-02-04</td>\n",
       "      <td>TU 6497</td>\n",
       "      <td>HAM</td>\n",
       "      <td>NBE</td>\n",
       "      <td>2017-02-04 11:40:00</td>\n",
       "      <td>2017-02-04 14.40.00</td>\n",
       "      <td>ATA</td>\n",
       "      <td>TU 736IOK</td>\n",
       "    </tr>\n",
       "    <tr>\n",
       "      <th>5699</th>\n",
       "      <td>test_id_5699</td>\n",
       "      <td>2018-09-10</td>\n",
       "      <td>TU 0724</td>\n",
       "      <td>TUN</td>\n",
       "      <td>ORY</td>\n",
       "      <td>2018-09-10 18:20:00</td>\n",
       "      <td>2018-09-10 20.40.00</td>\n",
       "      <td>ATA</td>\n",
       "      <td>TU 32AIMI</td>\n",
       "    </tr>\n",
       "  </tbody>\n",
       "</table>\n",
       "</div>"
      ],
      "text/plain": [
       "                ID       DATOP     FLTID DEPSTN ARRSTN                  STD  \\\n",
       "7818  test_id_7818  2018-09-23  TU 0856     TUN    MXP  2018-09-23 14:00:00   \n",
       "6020  test_id_6020  2018-09-20  TU 0694     DJE    MRS  2018-09-20 07:25:00   \n",
       "2592  test_id_2592  2016-05-01  UG 1311     CDG    TUN  2016-05-01 16:40:00   \n",
       "3222  test_id_3222  2017-02-04  TU 6497     HAM    NBE  2017-02-04 11:40:00   \n",
       "5699  test_id_5699  2018-09-10  TU 0724     TUN    ORY  2018-09-10 18:20:00   \n",
       "\n",
       "                      STA STATUS         AC  \n",
       "7818  2018-09-23 15.45.00    ATA  TU 31BIMQ  \n",
       "6020  2018-09-20 09.25.00    ATA  TU 736IOR  \n",
       "2592  2016-05-01 18.55.00    SCH  TU CR9ISA  \n",
       "3222  2017-02-04 14.40.00    ATA  TU 736IOK  \n",
       "5699  2018-09-10 20.40.00    ATA  TU 32AIMI  "
      ]
     },
     "execution_count": 7,
     "metadata": {},
     "output_type": "execute_result"
    }
   ],
   "source": [
    "test.sample(5)"
   ]
  },
  {
   "cell_type": "markdown",
   "metadata": {},
   "source": [
    "### Variable definitions\n",
    "ID : flight ID\n",
    "\n",
    "DATOP: operation date\n",
    "\n",
    "FLITID : flightID\n",
    "\n",
    "DEPSTN : departure destination\n",
    "\n",
    "ARRSTN : arrival destination\n",
    "\n",
    "STD : departure time\n",
    "\n",
    "STA : arrival time\n",
    "\n",
    "STA : status\n",
    "\n",
    "target : delay time"
   ]
  },
  {
   "cell_type": "markdown",
   "metadata": {},
   "source": [
    "\n"
   ]
  },
  {
   "cell_type": "code",
   "execution_count": 10,
   "metadata": {
    "scrolled": false
   },
   "outputs": [
    {
     "name": "stdout",
     "output_type": "stream",
     "text": [
      "dimension of the train set:  (107833, 10)\n",
      "dimension of the test set :  (9333, 9)\n"
     ]
    }
   ],
   "source": [
    "print('dimension of the train set: ',train.shape)\n",
    "print('dimension of the test set : ',test.shape)"
   ]
  },
  {
   "cell_type": "markdown",
   "metadata": {},
   "source": [
    "### Data Preprocessing"
   ]
  },
  {
   "cell_type": "code",
   "execution_count": 126,
   "metadata": {},
   "outputs": [
    {
     "name": "stdout",
     "output_type": "stream",
     "text": [
      "The shape of the combined dataframe is: (117166, 10)\n"
     ]
    }
   ],
   "source": [
    "#Combining train and test set for easy preprocessing:\n",
    "\n",
    "ntrain = train.shape[0] # will be used to split train and test set from the combined dataframe\n",
    "data = pd.concat((train, test)).reset_index(drop=True)\n",
    "print(f'The shape of the combined dataframe is: {data.shape}')"
   ]
  },
  {
   "cell_type": "code",
   "execution_count": 127,
   "metadata": {
    "scrolled": true
   },
   "outputs": [
    {
     "name": "stdout",
     "output_type": "stream",
     "text": [
      "<class 'pandas.core.frame.DataFrame'>\n",
      "RangeIndex: 117166 entries, 0 to 117165\n",
      "Data columns (total 10 columns):\n",
      " #   Column  Non-Null Count   Dtype  \n",
      "---  ------  --------------   -----  \n",
      " 0   ID      117166 non-null  object \n",
      " 1   DATOP   117166 non-null  object \n",
      " 2   FLTID   117166 non-null  object \n",
      " 3   DEPSTN  117166 non-null  object \n",
      " 4   ARRSTN  117166 non-null  object \n",
      " 5   STD     117166 non-null  object \n",
      " 6   STA     117166 non-null  object \n",
      " 7   STATUS  117166 non-null  object \n",
      " 8   AC      117166 non-null  object \n",
      " 9   target  107833 non-null  float64\n",
      "dtypes: float64(1), object(9)\n",
      "memory usage: 8.9+ MB\n"
     ]
    }
   ],
   "source": [
    "data.info()"
   ]
  },
  {
   "cell_type": "code",
   "execution_count": 128,
   "metadata": {},
   "outputs": [],
   "source": [
    "#Convert to datetime\n",
    "data['STA']=data['STA'].map(lambda x:x.replace('.',':'))\n",
    "data[['DATOP','STD','STA']]=data[['DATOP','STD','STA']].apply(pd.to_datetime,errors='coerce')"
   ]
  },
  {
   "cell_type": "code",
   "execution_count": 129,
   "metadata": {},
   "outputs": [],
   "source": [
    "data['DATOP_day']=data['DATOP'].dt.day\n",
    "data['DATOP_month']=data['DATOP'].dt.month\n",
    "data['DATOP_year']=data['DATOP'].dt.year\n",
    "data.drop(['DATOP'],axis=1,inplace=True)"
   ]
  },
  {
   "cell_type": "code",
   "execution_count": 130,
   "metadata": {},
   "outputs": [],
   "source": [
    "def date_split(column):\n",
    "    \"\"\"\n",
    "    split DateTime Data to create multiple feature\n",
    "    \"\"\"\n",
    "    data[column+'_day']=data[column].dt.day\n",
    "    data[column+'_month']=data[column].dt.month\n",
    "    data[column+'_year']=data[column].dt.year\n",
    "    data[column+'_hours']=data[column].dt.hour\n",
    "    data[column+'_minutes']=data[column].dt.minute\n",
    "    data[column+'_seconds']=data[column].dt.second"
   ]
  },
  {
   "cell_type": "code",
   "execution_count": 131,
   "metadata": {},
   "outputs": [],
   "source": [
    "#apply date split to STD and STA\n",
    "date_split('STD')\n",
    "date_split('STA')\n",
    "data.drop(['STD','STA'],axis=1,inplace=True)"
   ]
  },
  {
   "cell_type": "markdown",
   "metadata": {},
   "source": [
    "##### Category columns"
   ]
  },
  {
   "cell_type": "code",
   "execution_count": 139,
   "metadata": {},
   "outputs": [],
   "source": [
    "cat_cols=['FLTID','DEPSTN','ARRSTN','STATUS','AC']"
   ]
  },
  {
   "cell_type": "code",
   "execution_count": 140,
   "metadata": {},
   "outputs": [],
   "source": [
    "# Change columns to their respective datatypes\n",
    "data[cat_cols]=data[cat_cols].astype('category')"
   ]
  },
  {
   "cell_type": "code",
   "execution_count": 141,
   "metadata": {},
   "outputs": [
    {
     "name": "stdout",
     "output_type": "stream",
     "text": [
      "FLTID 1912\n",
      "DEPSTN 134\n",
      "ARRSTN 130\n",
      "STATUS 5\n",
      "AC 70\n"
     ]
    }
   ],
   "source": [
    "#Number of unique values per categorical columns\n",
    "for col in cat_cols:\n",
    "    print(col,data[col].nunique())"
   ]
  },
  {
   "cell_type": "code",
   "execution_count": 147,
   "metadata": {},
   "outputs": [],
   "source": [
    "# Encode categorical features\n",
    "#Label Encoding\n",
    "from sklearn.preprocessing import LabelEncoder\n",
    "for col in cat_cols:\n",
    "    data[col]=LabelEncoder().fit_transform(data[col])"
   ]
  },
  {
   "cell_type": "code",
   "execution_count": 148,
   "metadata": {},
   "outputs": [
    {
     "data": {
      "text/html": [
       "<div>\n",
       "<style scoped>\n",
       "    .dataframe tbody tr th:only-of-type {\n",
       "        vertical-align: middle;\n",
       "    }\n",
       "\n",
       "    .dataframe tbody tr th {\n",
       "        vertical-align: top;\n",
       "    }\n",
       "\n",
       "    .dataframe thead th {\n",
       "        text-align: right;\n",
       "    }\n",
       "</style>\n",
       "<table border=\"1\" class=\"dataframe\">\n",
       "  <thead>\n",
       "    <tr style=\"text-align: right;\">\n",
       "      <th></th>\n",
       "      <th>ID</th>\n",
       "      <th>FLTID</th>\n",
       "      <th>DEPSTN</th>\n",
       "      <th>ARRSTN</th>\n",
       "      <th>STATUS</th>\n",
       "      <th>AC</th>\n",
       "      <th>target</th>\n",
       "      <th>DATOP_day</th>\n",
       "      <th>DATOP_month</th>\n",
       "      <th>DATOP_year</th>\n",
       "      <th>...</th>\n",
       "      <th>STD_year</th>\n",
       "      <th>STD_hours</th>\n",
       "      <th>STD_minutes</th>\n",
       "      <th>STD_seconds</th>\n",
       "      <th>STA_day</th>\n",
       "      <th>STA_month</th>\n",
       "      <th>STA_year</th>\n",
       "      <th>STA_hours</th>\n",
       "      <th>STA_minutes</th>\n",
       "      <th>STA_seconds</th>\n",
       "    </tr>\n",
       "  </thead>\n",
       "  <tbody>\n",
       "    <tr>\n",
       "      <th>0</th>\n",
       "      <td>train_id_0</td>\n",
       "      <td>239</td>\n",
       "      <td>32</td>\n",
       "      <td>121</td>\n",
       "      <td>0</td>\n",
       "      <td>47</td>\n",
       "      <td>260.0</td>\n",
       "      <td>3</td>\n",
       "      <td>1</td>\n",
       "      <td>2016</td>\n",
       "      <td>...</td>\n",
       "      <td>2016</td>\n",
       "      <td>10</td>\n",
       "      <td>30</td>\n",
       "      <td>0</td>\n",
       "      <td>3</td>\n",
       "      <td>1</td>\n",
       "      <td>2016</td>\n",
       "      <td>12</td>\n",
       "      <td>55</td>\n",
       "      <td>0</td>\n",
       "    </tr>\n",
       "    <tr>\n",
       "      <th>1</th>\n",
       "      <td>train_id_1</td>\n",
       "      <td>266</td>\n",
       "      <td>88</td>\n",
       "      <td>121</td>\n",
       "      <td>0</td>\n",
       "      <td>29</td>\n",
       "      <td>20.0</td>\n",
       "      <td>13</td>\n",
       "      <td>1</td>\n",
       "      <td>2016</td>\n",
       "      <td>...</td>\n",
       "      <td>2016</td>\n",
       "      <td>15</td>\n",
       "      <td>5</td>\n",
       "      <td>0</td>\n",
       "      <td>13</td>\n",
       "      <td>1</td>\n",
       "      <td>2016</td>\n",
       "      <td>16</td>\n",
       "      <td>55</td>\n",
       "      <td>0</td>\n",
       "    </tr>\n",
       "    <tr>\n",
       "      <th>2</th>\n",
       "      <td>train_id_2</td>\n",
       "      <td>93</td>\n",
       "      <td>125</td>\n",
       "      <td>59</td>\n",
       "      <td>0</td>\n",
       "      <td>47</td>\n",
       "      <td>0.0</td>\n",
       "      <td>16</td>\n",
       "      <td>1</td>\n",
       "      <td>2016</td>\n",
       "      <td>...</td>\n",
       "      <td>2016</td>\n",
       "      <td>4</td>\n",
       "      <td>10</td>\n",
       "      <td>0</td>\n",
       "      <td>16</td>\n",
       "      <td>1</td>\n",
       "      <td>2016</td>\n",
       "      <td>6</td>\n",
       "      <td>45</td>\n",
       "      <td>0</td>\n",
       "    </tr>\n",
       "    <tr>\n",
       "      <th>3</th>\n",
       "      <td>train_id_3</td>\n",
       "      <td>173</td>\n",
       "      <td>38</td>\n",
       "      <td>93</td>\n",
       "      <td>0</td>\n",
       "      <td>51</td>\n",
       "      <td>0.0</td>\n",
       "      <td>17</td>\n",
       "      <td>1</td>\n",
       "      <td>2016</td>\n",
       "      <td>...</td>\n",
       "      <td>2016</td>\n",
       "      <td>14</td>\n",
       "      <td>10</td>\n",
       "      <td>0</td>\n",
       "      <td>17</td>\n",
       "      <td>1</td>\n",
       "      <td>2016</td>\n",
       "      <td>17</td>\n",
       "      <td>0</td>\n",
       "      <td>0</td>\n",
       "    </tr>\n",
       "    <tr>\n",
       "      <th>4</th>\n",
       "      <td>train_id_4</td>\n",
       "      <td>145</td>\n",
       "      <td>125</td>\n",
       "      <td>4</td>\n",
       "      <td>0</td>\n",
       "      <td>35</td>\n",
       "      <td>22.0</td>\n",
       "      <td>17</td>\n",
       "      <td>1</td>\n",
       "      <td>2016</td>\n",
       "      <td>...</td>\n",
       "      <td>2016</td>\n",
       "      <td>14</td>\n",
       "      <td>30</td>\n",
       "      <td>0</td>\n",
       "      <td>17</td>\n",
       "      <td>1</td>\n",
       "      <td>2016</td>\n",
       "      <td>15</td>\n",
       "      <td>50</td>\n",
       "      <td>0</td>\n",
       "    </tr>\n",
       "  </tbody>\n",
       "</table>\n",
       "<p>5 rows × 22 columns</p>\n",
       "</div>"
      ],
      "text/plain": [
       "           ID  FLTID  DEPSTN  ARRSTN  STATUS  AC  target  DATOP_day  \\\n",
       "0  train_id_0    239      32     121       0  47   260.0          3   \n",
       "1  train_id_1    266      88     121       0  29    20.0         13   \n",
       "2  train_id_2     93     125      59       0  47     0.0         16   \n",
       "3  train_id_3    173      38      93       0  51     0.0         17   \n",
       "4  train_id_4    145     125       4       0  35    22.0         17   \n",
       "\n",
       "   DATOP_month  DATOP_year  ...  STD_year  STD_hours  STD_minutes  \\\n",
       "0            1        2016  ...      2016         10           30   \n",
       "1            1        2016  ...      2016         15            5   \n",
       "2            1        2016  ...      2016          4           10   \n",
       "3            1        2016  ...      2016         14           10   \n",
       "4            1        2016  ...      2016         14           30   \n",
       "\n",
       "   STD_seconds  STA_day  STA_month  STA_year  STA_hours  STA_minutes  \\\n",
       "0            0        3          1      2016         12           55   \n",
       "1            0       13          1      2016         16           55   \n",
       "2            0       16          1      2016          6           45   \n",
       "3            0       17          1      2016         17            0   \n",
       "4            0       17          1      2016         15           50   \n",
       "\n",
       "   STA_seconds  \n",
       "0            0  \n",
       "1            0  \n",
       "2            0  \n",
       "3            0  \n",
       "4            0  \n",
       "\n",
       "[5 rows x 22 columns]"
      ]
     },
     "execution_count": 148,
     "metadata": {},
     "output_type": "execute_result"
    }
   ],
   "source": [
    "data.head()"
   ]
  },
  {
   "cell_type": "code",
   "execution_count": null,
   "metadata": {},
   "outputs": [],
   "source": []
  }
 ],
 "metadata": {
  "kernelspec": {
   "display_name": "Python 3",
   "language": "python",
   "name": "python3"
  },
  "language_info": {
   "codemirror_mode": {
    "name": "ipython",
    "version": 3
   },
   "file_extension": ".py",
   "mimetype": "text/x-python",
   "name": "python",
   "nbconvert_exporter": "python",
   "pygments_lexer": "ipython3",
   "version": "3.8.5"
  }
 },
 "nbformat": 4,
 "nbformat_minor": 5
}
